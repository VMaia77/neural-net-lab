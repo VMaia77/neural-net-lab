{
 "cells": [
  {
   "attachments": {},
   "cell_type": "markdown",
   "metadata": {},
   "source": [
    "## Multi-class classification problem"
   ]
  },
  {
   "attachments": {},
   "cell_type": "markdown",
   "metadata": {},
   "source": [
    "### Data\n",
    "\n",
    "Fashion-MNIST: a Novel Image Dataset for Benchmarking Machine Learning Algorithms\n",
    "\n",
    "The data can be downloaded here: https://github.com/zalandoresearch/fashion-mnist (https://arxiv.org/abs/1708.07747).\n",
    "\n",
    "The images will be stored at **./data/fashion_mnist_images**. This directory must have a folder called train, containing folders for each class (named with the class index), the images will be in these class folders. In addition, the directory must have a folder called test, with the same structure of the train folder."
   ]
  },
  {
   "cell_type": "code",
   "execution_count": 15,
   "metadata": {},
   "outputs": [],
   "source": [
    "%cd ..\n",
    "\n",
    "import os\n",
    "import urllib.request\n",
    "from zipfile import ZipFile\n",
    "import cv2\n",
    "import numpy as np\n",
    "from sklearn.model_selection import train_test_split\n",
    "from utils.load_images import create_image_data\n",
    "from src.model.neural_network import NeuralNetwork\n",
    "from src.utils.plots import plot_epochs_history\n",
    "\n",
    "np.set_printoptions(linewidth=200)"
   ]
  },
  {
   "attachments": {},
   "cell_type": "markdown",
   "metadata": {},
   "source": [
    "### Load the data"
   ]
  },
  {
   "cell_type": "code",
   "execution_count": 10,
   "metadata": {},
   "outputs": [],
   "source": [
    "# # If you downloaded a zipped file:\n",
    "\n",
    "# url = ''\n",
    "# file = './data/fashion_mnist_images.zip'\n",
    "folder = './data/fashion_mnist_images'\n",
    "\n",
    "# if not os.path.isfile(file):\n",
    "#     print(f'Downloading from {url} and saving as {file}')\n",
    "# urllib.request.urlretrieve(url, file)\n",
    "\n",
    "# print('Unzipping images')\n",
    "# with ZipFile(file) as zip_images:\n",
    "#     zip_images.extractall(folder)"
   ]
  },
  {
   "cell_type": "code",
   "execution_count": 11,
   "metadata": {},
   "outputs": [
    {
     "name": "stdout",
     "output_type": "stream",
     "text": [
      "['0', '1', '2', '3', '4', '5', '6', '7', '8', '9']\n"
     ]
    }
   ],
   "source": [
    "labels = os.listdir(f'{folder}/train')\n",
    "print(labels)"
   ]
  },
  {
   "cell_type": "code",
   "execution_count": 12,
   "metadata": {},
   "outputs": [
    {
     "name": "stdout",
     "output_type": "stream",
     "text": [
      "[[  0   0   0   0   0   0   0   0   0   0   0   0   0   0   0   0   0   0   0   0   0   0   0   0   0   0   0   0]\n",
      " [  0   0   0   0   0   0   0   0   0   0   0   0   0   0   0   0   0   0   0   0   0   0   0   0   0   0   0   0]\n",
      " [  0   0   0   0   0   0   0   0   0   0   0   0   0   0   0   0   0   0   0   0   0   0   0   0   0   0   0   0]\n",
      " [  0   0   0   0   0   0   0   0   0   0   0   0   0   0   0   0   0   0   0   0   0   0   0   0   0   0   0   0]\n",
      " [  0   0   0   0   0   0   0   0   0   0   0   0   0   0   0   0   0   0   0   0   0   0   0   0   0   0   0   0]\n",
      " [  0   0   0   0   0   0   0   0   0   0   0   0   0   0   0   0   0   0   0   0   0   0   0   0   0   0   0   0]\n",
      " [  0   0   0   0   0   0   0   0   0   0   0   0   0   0   0   0   0   0   0   0   0   0   0   0   0   0   0   0]\n",
      " [  0   0   0   0   0   0   0   0   0   0   0   0   0   0   0   0   0   0   0   0   0   0   0   0   0   0   0   0]\n",
      " [  0   0   0   0   0   0   0   0   0   0   0   0   0   0   0   0   0   0   0   0   0   0   0   0   0   0   0   0]\n",
      " [  0   0   0   0   0   0   0   0   0   0   0   0   0   0   0   0   1  61   7   0   1   0   0   0   1   4   3   0]\n",
      " [  0   0   0   0   0   0   0   0   0   0   1   0   0   0  13 104 135 178  81   0   3   1   2   2   1   0   0   0]\n",
      " [  0   0   0   0   0   0   0   0   1   0   0   0   0  87 163 174 158 127 174   0   0   0   0   0   0  57  36   0]\n",
      " [  1   1   0   0   0   1   2   0   0   0   2  52 153 137 137 116 165 170 157 204  61   0   0  55 162 221 221   0]\n",
      " [  0   0   2   3   2   0   0   0  20  98 130 168 129 181 156 156 241 146 171 174 237 241 234 218 215 208 195   8]\n",
      " [  2   0   0   0   0   0  17  87 149 149 155 139 176 140 215 255 224 184 162 186 165 182 186 182 177 173 201  63]\n",
      " [  0   0   7  32  68 110 147 126 128 148 137 129 138 164 154 185 200 225 197 156 190 181 189 180 171 177 186  90]\n",
      " [  1  99 112 112 117 118 116 111 138 144 119 127 133 157 164 189 204 214 215 192 174 181 189 189 186 190 193 137]\n",
      " [ 45 157 157 159 157 155 155 157 158 177 193 202 208 214 224 204 220 225 225 215 214 204 205 187 184 177 178 116]\n",
      " [  0  13  17  45  50  61  83  89  82  76  69  72  71  62  57  57  59  54  41  36  17  10   6   0   0   0   0   1]\n",
      " [  0   3   8   0   0   0   0   0   0   0   2   0   0   1   0   0   0   0   1   5  12  14  20  23  26  30  33  22]\n",
      " [  0   0   0   0   0   0   0   0   0   0   0   0   0   0   0   0   0   0   0   0   0   0   0   0   0   0   0   0]\n",
      " [  0   0   0   0   0   0   0   0   0   0   0   0   0   0   0   0   0   0   0   0   0   0   0   0   0   0   0   0]\n",
      " [  0   0   0   0   0   0   0   0   0   0   0   0   0   0   0   0   0   0   0   0   0   0   0   0   0   0   0   0]\n",
      " [  0   0   0   0   0   0   0   0   0   0   0   0   0   0   0   0   0   0   0   0   0   0   0   0   0   0   0   0]\n",
      " [  0   0   0   0   0   0   0   0   0   0   0   0   0   0   0   0   0   0   0   0   0   0   0   0   0   0   0   0]\n",
      " [  0   0   0   0   0   0   0   0   0   0   0   0   0   0   0   0   0   0   0   0   0   0   0   0   0   0   0   0]\n",
      " [  0   0   0   0   0   0   0   0   0   0   0   0   0   0   0   0   0   0   0   0   0   0   0   0   0   0   0   0]\n",
      " [  0   0   0   0   0   0   0   0   0   0   0   0   0   0   0   0   0   0   0   0   0   0   0   0   0   0   0   0]]\n"
     ]
    }
   ],
   "source": [
    "image_data = cv2.imread(f'{folder}/train/7/0007.png', cv2.IMREAD_UNCHANGED)\n",
    "print(image_data)"
   ]
  },
  {
   "cell_type": "code",
   "execution_count": 13,
   "metadata": {},
   "outputs": [],
   "source": [
    "label_description = {\n",
    "    0: 'T-shirt/top',\n",
    "    1: 'Trouser',\n",
    "    2: 'Pullover',\n",
    "    3: 'Dress',\n",
    "    4: 'Coat',\n",
    "    5: 'Sandal',\n",
    "    6: 'Shirt',\n",
    "    7: 'Sneaker',\n",
    "    8: 'Bag',\n",
    "    9: 'Ankle boot'\n",
    "    }"
   ]
  },
  {
   "attachments": {},
   "cell_type": "markdown",
   "metadata": {},
   "source": [
    "### Split data"
   ]
  },
  {
   "cell_type": "code",
   "execution_count": 14,
   "metadata": {},
   "outputs": [],
   "source": [
    " \n",
    "X, y, X_test, y_test = create_image_data(folder)\n"
   ]
  },
  {
   "cell_type": "code",
   "execution_count": 16,
   "metadata": {},
   "outputs": [],
   "source": [
    "# Shuffle the training dataset\n",
    "keys = np.array(range(X.shape[0]))\n",
    "np.random.shuffle(keys)\n",
    "X = X[keys]\n",
    "y = y[keys]\n",
    "\n",
    "# Scale and reshape samples\n",
    "X = (X.reshape(X.shape[0], -1).astype(np.float32) - 127.5) / 127.5\n",
    "X_test = (X_test.reshape(X_test.shape[0], -1).astype(np.float32) - 127.5) / 127.5\n",
    "\n",
    "X_train, X_val, y_train, y_val = train_test_split(X, y, stratify = y, test_size=0.3, random_state=42)"
   ]
  },
  {
   "attachments": {},
   "cell_type": "markdown",
   "metadata": {},
   "source": [
    "### Fit the model"
   ]
  },
  {
   "cell_type": "code",
   "execution_count": null,
   "metadata": {},
   "outputs": [],
   "source": [
    "input_shape = X_train.shape[1]\n",
    "output_n_neurons = max(y_train) + 1 # if y is OHE use y.shape[1]\n",
    "start_params = dict(input_shape = input_shape, output_n_neurons = output_n_neurons, output_activation='softmax', accuracy= 'categorical')\n",
    "\n",
    "model = NeuralNetwork(**start_params)\n",
    "\n",
    "# Add layers\n",
    "params = dict(loss = 'categorical_cross_entropy', optimizer = 'adam', \n",
    "        epochs = 20, batch_size = 128,        \n",
    "        n_layers = 5, n_neurons = 100, learning_rate = 0.0005,\n",
    "        decay = 5e-5)\n",
    "\n",
    "model.set_params(**params)\n",
    "\n",
    "# Train the model\n",
    "model.fit(X_train, y_train, validation_data=(X_val, y_val), print_every_n_steps=300)"
   ]
  },
  {
   "attachments": {},
   "cell_type": "markdown",
   "metadata": {},
   "source": [
    "### Plot accumulated epoch losses and validation losses\n",
    "\n",
    "The validation loss (in **orange**) usually starts smaller than the epoch losses because the values used to calculate the epoch loss are computed before the parameter update and the validation loss is computed after all parameter updates of the epoch."
   ]
  },
  {
   "cell_type": "code",
   "execution_count": 21,
   "metadata": {},
   "outputs": [
    {
     "data": {
      "image/png": "[encoded data removed]",
      "text/plain": [
       "<Figure size 432x288 with 1 Axes>"
      ]
     },
     "metadata": {
      "needs_background": "light"
     },
     "output_type": "display_data"
    }
   ],
   "source": [
    "plot_epochs_history([model.accumulated_epoch_losses, model.validation_epoch_losses], 'Loss')"
   ]
  },
  {
   "attachments": {},
   "cell_type": "markdown",
   "metadata": {},
   "source": [
    "### Predictions"
   ]
  },
  {
   "cell_type": "code",
   "execution_count": 24,
   "metadata": {},
   "outputs": [
    {
     "data": {
      "text/plain": [
       "array([[5.84972417e-15, 9.99186316e-01, 1.17323250e-11, ..., 9.53662866e-54, 1.84015769e-09, 3.98572609e-46],\n",
       "       [4.98556693e-04, 1.11172981e-06, 9.89900103e-09, ..., 4.31281234e-05, 9.99236766e-01, 4.75439792e-07],\n",
       "       [1.37143801e-21, 9.99973115e-01, 1.18194875e-16, ..., 1.97120543e-78, 1.49947590e-13, 1.96739789e-67],\n",
       "       ...,\n",
       "       [3.78880139e-05, 2.49688527e-09, 3.50138974e-11, ..., 4.44245121e-07, 9.99960694e-01, 2.79861453e-10],\n",
       "       [6.10785282e-17, 9.99705888e-01, 3.76807627e-13, ..., 3.95207539e-61, 1.10432734e-10, 1.69201712e-52],\n",
       "       [4.78334938e-01, 8.52742705e-05, 1.62931455e-02, ..., 2.72742356e-17, 3.09519936e-03, 7.59284924e-16]])"
      ]
     },
     "execution_count": 24,
     "metadata": {},
     "output_type": "execute_result"
    }
   ],
   "source": [
    "model.predict(X, type='proba')"
   ]
  },
  {
   "cell_type": "code",
   "execution_count": 25,
   "metadata": {},
   "outputs": [
    {
     "data": {
      "text/plain": [
       "array([1, 8, 1, ..., 8, 1, 0], dtype=int64)"
      ]
     },
     "execution_count": 25,
     "metadata": {},
     "output_type": "execute_result"
    }
   ],
   "source": [
    "model.predict(X, type='classes')"
   ]
  },
  {
   "attachments": {},
   "cell_type": "markdown",
   "metadata": {},
   "source": [
    "### Save the model"
   ]
  },
  {
   "cell_type": "code",
   "execution_count": 87,
   "metadata": {},
   "outputs": [],
   "source": [
    "model.save_model('fashion_mnist.model')"
   ]
  },
  {
   "attachments": {},
   "cell_type": "markdown",
   "metadata": {},
   "source": [
    "### Load and evaluate"
   ]
  },
  {
   "cell_type": "code",
   "execution_count": 88,
   "metadata": {},
   "outputs": [
    {
     "name": "stdout",
     "output_type": "stream",
     "text": [
      "0-> Acc: 0.845 Loss: 0.456\n"
     ]
    },
    {
     "data": {
      "text/plain": [
       "(0.4561039253581247, 0.845)"
      ]
     },
     "execution_count": 88,
     "metadata": {},
     "output_type": "execute_result"
    }
   ],
   "source": [
    "model = NeuralNetwork.load('fashion_mnist.model')\n",
    "\n",
    "model.evaluate(X_test, y_test)"
   ]
  }
 ],
 "metadata": {
  "kernelspec": {
   "display_name": "Python 3.9.12 ('nn_math')",
   "language": "python",
   "name": "python3"
  },
  "language_info": {
   "codemirror_mode": {
    "name": "ipython",
    "version": 3
   },
   "file_extension": ".py",
   "mimetype": "text/x-python",
   "name": "python",
   "nbconvert_exporter": "python",
   "pygments_lexer": "ipython3",
   "version": "3.9.12 (main, Apr  4 2022, 05:22:27) [MSC v.1916 64 bit (AMD64)]"
  },
  "orig_nbformat": 4,
  "vscode": {
   "interpreter": {
    "hash": "76a5504535aef6b067c4c319349625057dcd6affdbc57273f2f09881b7291f0f"
   }
  }
 },
 "nbformat": 4,
 "nbformat_minor": 2
}
