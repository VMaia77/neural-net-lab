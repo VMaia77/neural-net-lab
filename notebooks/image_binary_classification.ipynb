{
 "cells": [
  {
   "attachments": {},
   "cell_type": "markdown",
   "metadata": {},
   "source": [
    "## Binary classification problem"
   ]
  },
  {
   "attachments": {},
   "cell_type": "markdown",
   "metadata": {},
   "source": [
    "### Data\n",
    "\n",
    "Fashion-MNIST: a Novel Image Dataset for Benchmarking Machine Learning Algorithms\n",
    "\n",
    "I transformed the classification problem into a binary classification problem by reducing the data to the labels 0 and 1.\n",
    "\n",
    "The data can be downloaded here: https://github.com/zalandoresearch/fashion-mnist (https://arxiv.org/abs/1708.07747).\n",
    "\n",
    "The images will be stored at **./data/fashion_mnist_images_binary**. This directory must have a folder called train, containing folders for each class (named with the class index), the images will be in these class folders. In addition, the directory must have a folder called test, with the same structure of the train folder."
   ]
  },
  {
   "cell_type": "code",
   "execution_count": null,
   "metadata": {},
   "outputs": [],
   "source": [
    "%cd ..\n",
    "\n",
    "import os\n",
    "import urllib.request\n",
    "from zipfile import ZipFile\n",
    "import cv2\n",
    "import numpy as np\n",
    "from sklearn.model_selection import train_test_split\n",
    "from utils.load_images import create_image_data\n",
    "from src.model.neural_network import NeuralNetwork\n",
    "from src.utils.plots import plot_epochs_history\n",
    "\n",
    "np.set_printoptions(linewidth=200)"
   ]
  },
  {
   "attachments": {},
   "cell_type": "markdown",
   "metadata": {},
   "source": [
    "### Load the data"
   ]
  },
  {
   "cell_type": "code",
   "execution_count": 2,
   "metadata": {},
   "outputs": [],
   "source": [
    "# # If you downloaded a zipped file:\n",
    "\n",
    "# url = ''\n",
    "# file = './data/fashion_mnist_images.zip'\n",
    "folder = './data/fashion_mnist_images_binary'\n",
    "\n",
    "# if not os.path.isfile(file):\n",
    "#     print(f'Downloading from {url} and saving as {file}')\n",
    "# urllib.request.urlretrieve(url, file)\n",
    "\n",
    "# print('Unzipping images')\n",
    "# with ZipFile(file) as zip_images:\n",
    "#     zip_images.extractall(folder)"
   ]
  },
  {
   "cell_type": "code",
   "execution_count": 3,
   "metadata": {},
   "outputs": [
    {
     "name": "stdout",
     "output_type": "stream",
     "text": [
      "['0', '1']\n"
     ]
    }
   ],
   "source": [
    "labels = os.listdir(f'{folder}/train')\n",
    "print(labels)"
   ]
  },
  {
   "cell_type": "code",
   "execution_count": 4,
   "metadata": {},
   "outputs": [
    {
     "name": "stdout",
     "output_type": "stream",
     "text": [
      "[[  0   0   0   0   0   0   0   0   0   0 175 119 114  86  89  99 109 132   0   0   0   0   0   0   0   0   0   0]\n",
      " [  0   0   0   0   0   0   0   0   0  92 255 254 255 255 255 255 250 255  19   0   0   0   0   0   0   0   0   0]\n",
      " [  0   0   0   0   0   0   0   0   0 211 234 210 219 220 215 210 206 255 119   0   0   0   0   0   0   0   0   0]\n",
      " [  0   0   0   0   0   0   0   0   0 255 231 224 226 225 223 222 215 237 204   0   0   0   0   0   0   0   0   0]\n",
      " [  0   0   0   0   0   0   0   0  50 255 221 228 227 227 224 224 222 221 251   0   0   0   0   0   0   0   0   0]\n",
      " [  0   0   0   0   0   0   0   0 135 255 221 229 229 228 226 228 226 218 255  78   0   0   0   0   0   0   0   0]\n",
      " [  0   0   0   0   0   0   0   0 180 245 222 227 228 228 227 225 224 220 252 106   0   0   0   0   0   0   0   0]\n",
      " [  0   0   0   0   0   0   0   0 204 232 221 224 225 226 226 224 224 217 247 124   0   0   0   0   0   0   0   0]\n",
      " [  0   0   0   0   0   0   0   0 208 233 222 226 225 231 231 226 225 221 244 138   0   0   0   0   0   0   0   0]\n",
      " [  0   0   0   0   0   0   0   0 203 234 224 226 224 224 237 228 224 219 244 149   0   0   0   0   0   0   0   0]\n",
      " [  0   0   0   0   0   0   0   0 188 248 222 223 236 191 215 238 223 219 243 151   0   0   0   0   0   0   0   0]\n",
      " [  0   0   0   0   0   0   0   0 115 255 221 221 250 161 186 252 220 217 255 113   0   0   0   0   0   0   0   0]\n",
      " [  0   0   0   0   0   0   0   0  17 255 225 219 255 105 131 255 213 221 255  46   0   0   0   0   0   0   0   0]\n",
      " [  0   0   0   0   0   0   0   0   0 240 231 214 255  69  76 255 214 228 250   0   0   0   0   0   0   0   0   0]\n",
      " [  0   0   0   0   0   0   0   0   0 186 238 218 255  26  34 255 219 229 200   0   0   0   0   0   0   0   0   0]\n",
      " [  0   0   0   0   0   0   0   0   0 128 243 218 255  11  24 255 222 232 141   0   0   0   0   0   0   0   0   0]\n",
      " [  0   0   0   0   0   0   0   0   0 111 244 219 255   5  15 255 221 237 119   0   0   0   0   0   0   0   0   0]\n",
      " [  0   0   0   0   0   0   0   0   0 114 243 222 255   0   0 255 225 238 124   0   0   0   0   0   0   0   0   0]\n",
      " [  0   0   0   0   0   0   0   0   0 151 241 228 232   0   0 238 232 235 153   0   0   0   0   0   0   0   0   0]\n",
      " [  0   0   0   0   0   0   0   0   0 203 235 235 192   0   0 201 236 234 187   0   0   0   0   0   0   0   0   0]\n",
      " [  0   0   0   0   0   0   0   0   0 217 232 240 147   0   0 177 241 231 202   0   0   0   0   0   0   0   0   0]\n",
      " [  0   0   0   0   0   0   0   0   0 227 233 239 124   0   0 158 243 232 205   0   0   0   0   0   0   0   0   0]\n",
      " [  0   0   0   0   0   0   0   0   0 221 233 238  64   0   0 120 243 235 197   0   0   0   0   0   0   0   0   0]\n",
      " [  0   0   0   0   0   0   0   0   0 202 240 221   0   0   0  38 237 239 158   0   0   0   0   0   0   0   0   0]\n",
      " [  0   0   0   0   0   0   0   0   0 184 246 192   0   0   0  18 230 240 120   0   0   0   0   0   0   0   0   0]\n",
      " [  0   0   0   0   0   0   0   0   0 177 248 172   0   0   0   0 220 239 124   0   0   0   0   0   0   0   0   0]\n",
      " [  0   0   0   0   0   0   0   0  30 194 245 179   0   2   0   0 209 245 227  43   0   0   0   0   0   0   0   0]\n",
      " [  0   0   0   0   0   0   0   0   0  40  16   2   0   0   0   0  21  35  29   9   0   0   0   0   0   0   0   0]]\n"
     ]
    }
   ],
   "source": [
    "image_data = cv2.imread(f'{folder}/train/1/0007.png', cv2.IMREAD_UNCHANGED)\n",
    "print(image_data)"
   ]
  },
  {
   "cell_type": "code",
   "execution_count": 5,
   "metadata": {},
   "outputs": [],
   "source": [
    "label_description = {\n",
    "    0: 'T-shirt/top',\n",
    "    1: 'Trouser'\n",
    "    }"
   ]
  },
  {
   "attachments": {},
   "cell_type": "markdown",
   "metadata": {},
   "source": [
    "### Split data"
   ]
  },
  {
   "cell_type": "code",
   "execution_count": 6,
   "metadata": {},
   "outputs": [],
   "source": [
    "X, y, X_test, y_test = create_image_data(folder)"
   ]
  },
  {
   "cell_type": "code",
   "execution_count": 7,
   "metadata": {},
   "outputs": [],
   "source": [
    "y = y.reshape(-1, 1)\n",
    "y_test = y_test.reshape(-1, 1)"
   ]
  },
  {
   "cell_type": "code",
   "execution_count": 8,
   "metadata": {},
   "outputs": [],
   "source": [
    "# shuffle the training dataset\n",
    "keys = np.array(range(X.shape[0]))\n",
    "np.random.shuffle(keys)\n",
    "X = X[keys]\n",
    "y = y[keys]\n",
    "\n",
    "# scale and reshape samples\n",
    "X = (X.reshape(X.shape[0], -1).astype(np.float32) - 127.5) / 127.5\n",
    "X_test = (X_test.reshape(X_test.shape[0], -1).astype(np.float32) - 127.5) / 127.5\n",
    "\n",
    "X_train, X_val, y_train, y_val = train_test_split(X, y, stratify = y, test_size=0.3, random_state=42)"
   ]
  },
  {
   "attachments": {},
   "cell_type": "markdown",
   "metadata": {},
   "source": [
    "### Fit the model"
   ]
  },
  {
   "cell_type": "code",
   "execution_count": null,
   "metadata": {},
   "outputs": [],
   "source": [
    "input_shape = X_train.shape[1]\n",
    "output_n_neurons = y_train.shape[1]\n",
    "start_params = dict(input_shape = input_shape, output_n_neurons = output_n_neurons, output_activation='sigmoid', accuracy= 'categorical')\n",
    "\n",
    "model = NeuralNetwork(**start_params)\n",
    "\n",
    "# add layers\n",
    "params = dict(loss = 'binary_cross_entropy', optimizer = 'adam', \n",
    "        epochs = 20, batch_size = 128,        \n",
    "        n_layers = 5, n_neurons = 100, learning_rate = 0.0005,\n",
    "        decay = 5e-5)\n",
    "\n",
    "model.set_params(**params)\n",
    "\n",
    "model.fit(X_train, y_train, validation_data=(X_val, y_val), print_every_n_steps=300)"
   ]
  },
  {
   "attachments": {},
   "cell_type": "markdown",
   "metadata": {},
   "source": [
    "### Plot accumulated epoch losses and validation losses\n",
    "\n",
    "The validation loss (in **orange**) usually starts smaller than the epoch losses because the values used to calculate the epoch loss are computed before the parameter update and the validation loss is computed after all parameter updates of the epoch."
   ]
  },
  {
   "cell_type": "code",
   "execution_count": 10,
   "metadata": {},
   "outputs": [
    {
     "data": {
      "image/png": "[encoded data removed]",
      "text/plain": [
       "<Figure size 432x288 with 1 Axes>"
      ]
     },
     "metadata": {
      "needs_background": "light"
     },
     "output_type": "display_data"
    }
   ],
   "source": [
    "plot_epochs_history([model.accumulated_epoch_losses, model.validation_epoch_losses], 'Loss')"
   ]
  },
  {
   "attachments": {},
   "cell_type": "markdown",
   "metadata": {},
   "source": [
    "### Predictions"
   ]
  },
  {
   "cell_type": "code",
   "execution_count": 11,
   "metadata": {},
   "outputs": [
    {
     "data": {
      "text/plain": [
       "array([[2.77307965e-05],\n",
       "       [1.02445725e-02],\n",
       "       [2.85343413e-04],\n",
       "       ...,\n",
       "       [9.99993430e-01],\n",
       "       [2.38654614e-03],\n",
       "       [9.99982166e-01]])"
      ]
     },
     "execution_count": 11,
     "metadata": {},
     "output_type": "execute_result"
    }
   ],
   "source": [
    "model.predict(X, type='proba')"
   ]
  },
  {
   "cell_type": "code",
   "execution_count": 12,
   "metadata": {},
   "outputs": [
    {
     "data": {
      "text/plain": [
       "array([[0],\n",
       "       [0],\n",
       "       [0],\n",
       "       ...,\n",
       "       [1],\n",
       "       [0],\n",
       "       [1]])"
      ]
     },
     "execution_count": 12,
     "metadata": {},
     "output_type": "execute_result"
    }
   ],
   "source": [
    "model.predict(X, type='classes')"
   ]
  },
  {
   "attachments": {},
   "cell_type": "markdown",
   "metadata": {},
   "source": [
    "### Save the model"
   ]
  },
  {
   "cell_type": "code",
   "execution_count": 13,
   "metadata": {},
   "outputs": [],
   "source": [
    "model.save_model('binary_fashion_mnist.model')"
   ]
  },
  {
   "attachments": {},
   "cell_type": "markdown",
   "metadata": {},
   "source": [
    "### Load and evaluate"
   ]
  },
  {
   "cell_type": "code",
   "execution_count": 14,
   "metadata": {},
   "outputs": [
    {
     "name": "stdout",
     "output_type": "stream",
     "text": [
      "0-> Acc: 0.985 Loss: 0.056\n"
     ]
    },
    {
     "data": {
      "text/plain": [
       "(0.05554909543760571, 0.985)"
      ]
     },
     "execution_count": 14,
     "metadata": {},
     "output_type": "execute_result"
    }
   ],
   "source": [
    "model = NeuralNetwork.load('binary_fashion_mnist.model')\n",
    "\n",
    "model.evaluate(X_test, y_test)"
   ]
  }
 ],
 "metadata": {
  "kernelspec": {
   "display_name": "nn_math",
   "language": "python",
   "name": "python3"
  },
  "language_info": {
   "codemirror_mode": {
    "name": "ipython",
    "version": 3
   },
   "file_extension": ".py",
   "mimetype": "text/x-python",
   "name": "python",
   "nbconvert_exporter": "python",
   "pygments_lexer": "ipython3",
   "version": "3.9.12 (main, Apr  4 2022, 05:22:27) [MSC v.1916 64 bit (AMD64)]"
  },
  "orig_nbformat": 4,
  "vscode": {
   "interpreter": {
    "hash": "76a5504535aef6b067c4c319349625057dcd6affdbc57273f2f09881b7291f0f"
   }
  }
 },
 "nbformat": 4,
 "nbformat_minor": 2
}
